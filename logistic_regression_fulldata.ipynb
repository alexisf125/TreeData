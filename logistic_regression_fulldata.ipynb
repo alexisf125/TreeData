{
 "cells": [
  {
   "cell_type": "code",
   "execution_count": null,
   "metadata": {},
   "outputs": [],
   "source": [
    "# import packages\n",
    "import numpy as np\n",
    "import pandas as pd\n",
    "import matplotlib.pyplot as plt\n",
    "from sklearn.linear_model import LogisticRegression\n",
    "from sklearn import metrics\n",
    "from sklearn.metrics import accuracy_score\n",
    "from sklearn.model_selection import train_test_split"
   ]
  },
  {
   "cell_type": "code",
   "execution_count": null,
   "metadata": {},
   "outputs": [],
   "source": [
    "# import data from processed_data.csv\n",
    "df = pd.read_csv('500_processed_data.csv')\n",
    "\n",
    "# drop rows with NaN\n",
    "df = df.dropna()\n",
    "\n",
    "# split into X and y\n",
    "X = df.drop('condition', axis=1)\n",
    "y = df['condition']\n",
    "\n",
    "# convert from boolean to int\n",
    "y = y.astype(int)\n",
    "X = X.astype(float)"
   ]
  },
  {
   "cell_type": "code",
   "execution_count": null,
   "metadata": {},
   "outputs": [],
   "source": [
    "# split into train and test sets\n",
    "x_train, x_test, y_train, y_test = train_test_split(X, y, test_size=0.25)"
   ]
  },
  {
   "cell_type": "code",
   "execution_count": null,
   "metadata": {},
   "outputs": [],
   "source": [
    "# train logistic regression model on training data\n",
    "logistic_regression = LogisticRegression()\n",
    "logistic_regression.fit(x_train, y_train)\n",
    "\n",
    "# Track accuracy and iterations\n",
    "accuracy_list = []\n",
    "iteration_list = []\n",
    "\n",
    "# Predict on test data and calculate accuracy for each iteration\n",
    "for i in range(1, 10):\n",
    "    logistic_regression.fit(x_train, y_train)\n",
    "    y_pred = logistic_regression.predict(x_test)\n",
    "    accuracy = accuracy_score(y_test, y_pred)\n",
    "    \n",
    "    # Append accuracy and iteration number to lists\n",
    "    accuracy_list.append(accuracy)\n",
    "    iteration_list.append(i)\n",
    "\n",
    "    # Print accuracy for each iteration (optional)\n",
    "    print(f\"Iteration {i}: Accuracy = {accuracy}\")\n",
    "\n",
    "# Plot accuracy vs. iterations\n",
    "plt.plot(iteration_list, accuracy_list)\n",
    "plt.xlabel('Iteration')\n",
    "plt.ylabel('Accuracy')\n",
    "plt.title('Accuracy vs. Iterations')\n",
    "plt.show()\n"
   ]
  },
  {
   "cell_type": "code",
   "execution_count": null,
   "metadata": {},
   "outputs": [],
   "source": [
    "# train logistic regression model on training data\n",
    "logistic_regression = LogisticRegression()\n",
    "logistic_regression.fit(x_train, y_train)\n",
    "\n",
    "# predict on test data\n",
    "y_pred = logistic_regression.predict(x_test)\n",
    "\n",
    "# compute accuracy\n",
    "accuracy = accuracy_score(y_test, y_pred)\n",
    "print(accuracy)"
   ]
  },
  {
   "cell_type": "code",
   "execution_count": null,
   "metadata": {},
   "outputs": [],
   "source": [
    "# optimize logistic regression model\n",
    "from sklearn.model_selection import GridSearchCV\n",
    "\n",
    "# perform grid search\n",
    "parameters = {'C': [0.001, 0.01, 0.1, 1, 10, 100]}\n",
    "logistic_regression = LogisticRegression()\n",
    "clf = GridSearchCV(logistic_regression, parameters, cv=5, verbose=0)\n",
    "clf.fit(x_train, y_train)\n",
    "\n",
    "# print best parameter after tuning\n",
    "print(clf.best_params_)\n",
    "\n",
    "# print how our model looks after hyper-parameter tuning\n",
    "print(clf.best_estimator_)\n",
    "logistic_regression = LogisticRegression(C=0.001, class_weight=None, dual=False, fit_intercept=True,\n",
    "                                            intercept_scaling=1, max_iter=100, multi_class='ovr', n_jobs=1, penalty='l2',\n",
    "                                            random_state=None, solver='liblinear', tol=0.0001, verbose=0, warm_start=False)\n",
    "\n",
    "# predict on test data\n",
    "y_pred = logistic_regression.predict(x_test)\n",
    "\n",
    "# compute accuracy\n",
    "accuracy = accuracy_score(y_test, y_pred)\n",
    "print(accuracy)"
   ]
  },
  {
   "cell_type": "code",
   "execution_count": null,
   "metadata": {},
   "outputs": [],
   "source": [
    "# plot accuracy\n",
    "plt.plot(accuracy)\n",
    "plt.xlabel('C')\n",
    "plt.ylabel('Accuracy')\n",
    "plt.show()"
   ]
  }
 ],
 "metadata": {
  "kernelspec": {
   "display_name": "base",
   "language": "python",
   "name": "python3"
  },
  "language_info": {
   "codemirror_mode": {
    "name": "ipython",
    "version": 3
   },
   "file_extension": ".py",
   "mimetype": "text/x-python",
   "name": "python",
   "nbconvert_exporter": "python",
   "pygments_lexer": "ipython3",
   "version": "3.9.13"
  },
  "orig_nbformat": 4
 },
 "nbformat": 4,
 "nbformat_minor": 2
}
