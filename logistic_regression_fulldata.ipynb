{
 "cells": [
  {
   "cell_type": "code",
   "execution_count": 5,
   "metadata": {},
   "outputs": [],
   "source": [
    "# import packages\n",
    "import numpy as np\n",
    "import pandas as pd\n",
    "import matplotlib.pyplot as plt\n",
    "from sklearn.linear_model import LogisticRegression\n",
    "from sklearn import metrics\n",
    "from sklearn.metrics import accuracy_score\n",
    "from sklearn.model_selection import train_test_split"
   ]
  },
  {
   "cell_type": "code",
   "execution_count": 6,
   "metadata": {},
   "outputs": [],
   "source": [
    "# import data from processed_data.csv\n",
    "df = pd.read_csv('processed_data.csv')\n",
    "\n",
    "# drop rows with NaN\n",
    "df = df.dropna()\n",
    "\n",
    "# split into X and y\n",
    "X = df.drop('condition', axis=1)\n",
    "y = df['condition']\n",
    "\n",
    "# convert from boolean to int\n",
    "y = y.astype(int)\n",
    "X = X.astype(float)"
   ]
  },
  {
   "cell_type": "code",
   "execution_count": 7,
   "metadata": {},
   "outputs": [],
   "source": [
    "# split into train and test sets\n",
    "x_train, x_test, y_train, y_test = train_test_split(X, y, test_size=0.25)"
   ]
  },
  {
   "cell_type": "code",
   "execution_count": 8,
   "metadata": {},
   "outputs": [
    {
     "name": "stderr",
     "output_type": "stream",
     "text": [
      "/Users/alexisfrankson/opt/anaconda3/lib/python3.9/site-packages/sklearn/linear_model/_logistic.py:458: ConvergenceWarning: lbfgs failed to converge (status=1):\n",
      "STOP: TOTAL NO. of ITERATIONS REACHED LIMIT.\n",
      "\n",
      "Increase the number of iterations (max_iter) or scale the data as shown in:\n",
      "    https://scikit-learn.org/stable/modules/preprocessing.html\n",
      "Please also refer to the documentation for alternative solver options:\n",
      "    https://scikit-learn.org/stable/modules/linear_model.html#logistic-regression\n",
      "  n_iter_i = _check_optimize_result(\n"
     ]
    },
    {
     "name": "stdout",
     "output_type": "stream",
     "text": [
      "0.769688563456607\n"
     ]
    }
   ],
   "source": [
    "# train logistic regression model on training data\n",
    "logistic_regression = LogisticRegression()\n",
    "logistic_regression.fit(x_train, y_train)\n",
    "\n",
    "# predict on test data\n",
    "y_pred = logistic_regression.predict(x_test)\n",
    "\n",
    "# compute accuracy\n",
    "accuracy = accuracy_score(y_test, y_pred)\n",
    "print(accuracy)"
   ]
  },
  {
   "cell_type": "code",
   "execution_count": 9,
   "metadata": {},
   "outputs": [],
   "source": [
    "# optimize logistic regression model\n",
    "from sklearn.model_selection import GridSearchCV\n",
    "\n",
    "# initialize logistic regression model parameters\n",
    "penalty = ['l1', 'l2']\n",
    "C = np.logspace(0, 4, 10)   \n",
    "\n",
    "# create empty accuracy list\n",
    "accuracy = []\n",
    "\n",
    "# loop through parameters\n",
    "for p in penalty:\n",
    "    for c in C:\n",
    "        # initialize logistic regression model\n",
    "        logistic_regression = LogisticRegression(penalty=p, C=c, solver='liblinear')\n",
    "        \n",
    "        # fit model\n",
    "        logistic_regression.fit(x_train, y_train)\n",
    "        \n",
    "        # predict on test data\n",
    "        y_pred = logistic_regression.predict(x_test)\n",
    "        \n",
    "        # compute accuracy\n",
    "        accuracy.append(accuracy_score(y_test, y_pred))\n",
    "\n",
    "# find parameters that correspond to max accuracy\n",
    "penalty = penalty[max_accuracy_index // len(C)]\n",
    "C = C[max_accuracy_index % len(C)]\n",
    "\n",
    "# plot accuracy\n",
    "plt.plot(accuracy)\n",
    "plt.show()"
   ]
  }
 ],
 "metadata": {
  "kernelspec": {
   "display_name": "base",
   "language": "python",
   "name": "python3"
  },
  "language_info": {
   "codemirror_mode": {
    "name": "ipython",
    "version": 3
   },
   "file_extension": ".py",
   "mimetype": "text/x-python",
   "name": "python",
   "nbconvert_exporter": "python",
   "pygments_lexer": "ipython3",
   "version": "3.9.13"
  },
  "orig_nbformat": 4
 },
 "nbformat": 4,
 "nbformat_minor": 2
}
