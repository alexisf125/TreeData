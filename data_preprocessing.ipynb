{
 "cells": [
  {
   "cell_type": "code",
   "execution_count": null,
   "metadata": {},
   "outputs": [],
   "source": [
    "import numpy as np\n",
    "import pandas as pd\n",
    "import os"
   ]
  },
  {
   "cell_type": "code",
   "execution_count": null,
   "metadata": {},
   "outputs": [],
   "source": [
    "# loop through all files in \"data/good_data\" and concatenta them into one dataframe\n",
    "df = pd.concat([pd.read_csv(f\"data/good_data/{file}\") for file in os.listdir(\"data/good_data\")])\n",
    "df.shape\n"
   ]
  },
  {
   "cell_type": "code",
   "execution_count": null,
   "metadata": {},
   "outputs": [],
   "source": [
    "# count unique values in common_name column\n",
    "df['common_name'].value_counts()"
   ]
  },
  {
   "cell_type": "code",
   "execution_count": null,
   "metadata": {},
   "outputs": [],
   "source": [
    "# count unique occurences of values in condition column\n",
    "df[\"condition\"].value_counts()\n",
    "\n",
    "# return as percentage\n",
    "df[\"condition\"].value_counts(normalize=True)\n"
   ]
  },
  {
   "cell_type": "code",
   "execution_count": null,
   "metadata": {},
   "outputs": [],
   "source": [
    "# drop all columns except for \"common_name\" \"longitude_coordinate\" \"latitude_coordinate\" \"condition\" \"native\"\n",
    "df = df[[\"condition\", \n",
    "         \"common_name\", \n",
    "         \"longitude_coordinate\", \"latitude_coordinate\", \"native\"]]\n",
    "print(df.shape)\n",
    "df.head()"
   ]
  },
  {
   "cell_type": "code",
   "execution_count": null,
   "metadata": {},
   "outputs": [],
   "source": [
    "# make a histogram of the count of each label in common_name column\n",
    "# df.common_name.value_counts().plot(kind='bar', figsize=(10,8), \n",
    "#                                    title=\"Count of occurence of each tree species in dataset\", \n",
    "#                                    xticks=([]),\n",
    "#                                    ylabel=\"Count\", xlabel=\"Tree Species\")"
   ]
  },
  {
   "cell_type": "code",
   "execution_count": null,
   "metadata": {},
   "outputs": [],
   "source": [
    "# plot number of occurences in common_name column if they occur less than 500 times on histogram\n",
    "df.common_name.value_counts()[df.common_name.value_counts() < 500].plot(kind='bar', figsize=(10,8), xticks=([]))"
   ]
  },
  {
   "cell_type": "code",
   "execution_count": null,
   "metadata": {},
   "outputs": [],
   "source": [
    "## create a list of common_name labels that occur less than 150 times in the dataset\n",
    "# cut_off = 500\n",
    "# labels_to_drop = df.common_name.value_counts()[df.common_name.value_counts() < cut_off].index.tolist()\n",
    "# print(len(labels_to_drop))"
   ]
  },
  {
   "cell_type": "code",
   "execution_count": null,
   "metadata": {},
   "outputs": [],
   "source": [
    "# replace all labels in common_name that occur in labels_to_drop with \"other\"\n",
    "df.common_name = df.common_name.apply(lambda x: \"other\" if x in labels_to_drop else x)"
   ]
  },
  {
   "cell_type": "code",
   "execution_count": null,
   "metadata": {},
   "outputs": [],
   "source": [
    "# count unique values in common_name column\n",
    "df.common_name.value_counts()\n",
    "\n",
    "# rank the labels in common_name column by count\n",
    "df.common_name.value_counts().rank()\n",
    "\n",
    "# # return the common_name and count for the 100th most common label\n",
    "# df.common_name.value_counts().index[99], df.common_name.value_counts()[99]"
   ]
  },
  {
   "cell_type": "code",
   "execution_count": null,
   "metadata": {},
   "outputs": [],
   "source": [
    "# # one hot \"common_name\" column\n",
    "# df = pd.get_dummies(df, columns=[\"common_name\"])\n",
    "\n",
    "# one hot 'condition' column\n",
    "df['condition'] = df['condition'].replace({'excellent': 4, 'good': 3, 'fair': 2, 'poor': 1, 'dead/dying': 0, 'dead': 0})\n",
    "\n",
    "# one hot native column\n",
    "df = pd.get_dummies(df, columns=[\"native\"])\n",
    "\n",
    "# drop native_no_info column\n",
    "df.drop(columns=['native_no_info'], inplace=True)\n",
    "\n",
    "# drop rows where condition is null\n",
    "df = df.dropna(subset=['condition'])\n",
    "\n",
    "print(df.shape)\n",
    "df.head()"
   ]
  },
  {
   "cell_type": "code",
   "execution_count": null,
   "metadata": {},
   "outputs": [],
   "source": [
    "# save to csv\n",
    "df.to_csv(\"processed_data.csv\", index=False)"
   ]
  }
 ],
 "metadata": {
  "kernelspec": {
   "display_name": "Python 3",
   "language": "python",
   "name": "python3"
  },
  "language_info": {
   "codemirror_mode": {
    "name": "ipython",
    "version": 3
   },
   "file_extension": ".py",
   "mimetype": "text/x-python",
   "name": "python",
   "nbconvert_exporter": "python",
   "pygments_lexer": "ipython3",
   "version": "3.9.13"
  },
  "orig_nbformat": 4
 },
 "nbformat": 4,
 "nbformat_minor": 2
}
