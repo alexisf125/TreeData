{
  "cells": [
    {
      "cell_type": "code",
      "execution_count": null,
      "metadata": {
        "colab": {
          "base_uri": "https://localhost:8080/"
        },
        "id": "-S1FDQy9YnV5",
        "outputId": "d46dab5b-7476-4e13-e774-54d1275bfe67"
      },
      "outputs": [
        {
          "ename": "",
          "evalue": "",
          "output_type": "error",
          "traceback": [
            "\u001b[1;31mRunning cells with '/usr/bin/python3' requires the ipykernel package.\n",
            "\u001b[1;31mRun the following command to install 'ipykernel' into the Python environment. \n",
            "\u001b[1;31mCommand: '/usr/bin/python3 -m pip install ipykernel -U --user --force-reinstall'"
          ]
        }
      ],
      "source": [
        "import numpy as np\n",
        "import pandas as pd\n",
        "import matplotlib.pyplot as plt\n",
        "from sklearn.preprocessing import StandardScaler\n",
        "import os\n",
        "import torch\n",
        "from torch import nn\n",
        "from torch.utils.data import DataLoader\n",
        "from torchvision import datasets, transforms\n",
        "from sklearn.model_selection import train_test_split\n",
        "import seaborn as sns\n",
        "\n",
        "\n",
        "data = pd.read_csv('Albuquerque_Final_2022-06-18.csv')\n"
      ]
    },
    {
      "cell_type": "code",
      "execution_count": null,
      "metadata": {
        "id": "mMX90ZOiip3Y"
      },
      "outputs": [
        {
          "ename": "",
          "evalue": "",
          "output_type": "error",
          "traceback": [
            "\u001b[1;31mRunning cells with '/usr/bin/python3' requires the ipykernel package.\n",
            "\u001b[1;31mRun the following command to install 'ipykernel' into the Python environment. \n",
            "\u001b[1;31mCommand: '/usr/bin/python3 -m pip install ipykernel -U --user --force-reinstall'"
          ]
        }
      ],
      "source": [
        "tree_types  = pd.get_dummies(data['common_name'])\n",
        "condition = pd.get_dummies(data['condition'])\n",
        "\n",
        "x_data = data[['longitude_coordinate', \t'latitude_coordinate']]\n",
        "x_data = pd.concat([x_data, tree_types], axis=1)\n",
        "y_data = condition\n",
        "all_data = pd.concat([x_data, y_data], axis=1)\n",
        "all_data = all_data.dropna()\n",
        "train_data, test_data = train_test_split(all_data, test_size=0.2, random_state=25)\n",
        "\n",
        "x_train = train_data.iloc[:, 0:-5]\n",
        "y_train = train_data.iloc[:,-5:]\n",
        "x_test = test_data.iloc[:, 0:-5]\n",
        "y_test = test_data.iloc[:,-5:]\n"
      ]
    },
    {
      "cell_type": "code",
      "execution_count": null,
      "metadata": {
        "colab": {
          "base_uri": "https://localhost:8080/"
        },
        "id": "jmZupuzqweQv",
        "outputId": "5f88b4e8-0fb2-4227-f191-f88270fc9cad"
      },
      "outputs": [
        {
          "ename": "",
          "evalue": "",
          "output_type": "error",
          "traceback": [
            "\u001b[1;31mRunning cells with '/usr/bin/python3' requires the ipykernel package.\n",
            "\u001b[1;31mRun the following command to install 'ipykernel' into the Python environment. \n",
            "\u001b[1;31mCommand: '/usr/bin/python3 -m pip install ipykernel -U --user --force-reinstall'"
          ]
        }
      ],
      "source": [
        "print(y_test)"
      ]
    },
    {
      "cell_type": "code",
      "execution_count": null,
      "metadata": {
        "colab": {
          "base_uri": "https://localhost:8080/",
          "height": 1000
        },
        "id": "TyD-HEWqmjpK",
        "outputId": "a2029101-5d1a-4889-c192-c4cf1d852313"
      },
      "outputs": [
        {
          "ename": "",
          "evalue": "",
          "output_type": "error",
          "traceback": [
            "\u001b[1;31mRunning cells with '/usr/bin/python3' requires the ipykernel package.\n",
            "\u001b[1;31mRun the following command to install 'ipykernel' into the Python environment. \n",
            "\u001b[1;31mCommand: '/usr/bin/python3 -m pip install ipykernel -U --user --force-reinstall'"
          ]
        }
      ],
      "source": [
        "# Compute and print\n",
        "corr_df= x_train\n",
        "cor= corr_df.corr(method='pearson') \n",
        "print(cor)\n",
        "\n",
        "# Plot\n",
        "fig_corr, ax_corr =plt.subplots()\n",
        "plt.title(\"Correlation Plot\")\n",
        "sns.heatmap(cor, cmap=plt.cm.RdYlBu, square=True, ax=ax_corr)\n",
        "plt.show()\n"
      ]
    },
    {
      "cell_type": "code",
      "execution_count": null,
      "metadata": {
        "colab": {
          "base_uri": "https://localhost:8080/",
          "height": 400
        },
        "id": "wDXMywZ2ph46",
        "outputId": "0648bab0-2972-4723-d39e-45f734ff90d2"
      },
      "outputs": [
        {
          "ename": "",
          "evalue": "",
          "output_type": "error",
          "traceback": [
            "\u001b[1;31mRunning cells with '/usr/bin/python3' requires the ipykernel package.\n",
            "\u001b[1;31mRun the following command to install 'ipykernel' into the Python environment. \n",
            "\u001b[1;31mCommand: '/usr/bin/python3 -m pip install ipykernel -U --user --force-reinstall'"
          ]
        }
      ],
      "source": [
        "from sklearn.linear_model import LogisticRegression\n",
        "from sklearn.metrics import accuracy_score\n",
        "\n",
        "x_train= x_train.to_numpy()\n",
        "x_test = x_test.to_numpy()\n",
        "# y_train = y_train.astype('int64')\n",
        "\n",
        "\n",
        "theta = LogisticRegression(penalty='l2', C=1)\n",
        "theta.fit(x_train, y_train)\n",
        "coeff = theta.coef_\n",
        "print(coeff)\n",
        "threshold = 0.5\n",
        "y_pred_lg = (theta.predict(x_test)) #> threshold).astype(int)\n",
        "#y_test = y_test*1\n",
        "# y_test = y_test.astype('int64')\n",
        "\n",
        "\n",
        "acc_lg = accuracy_score(y_test, y_pred_lg)\n",
        "print(\"Accuracy LG : \", acc_lg)\n",
        "\n",
        "fig2, ax2 = plt.subplots()\n",
        "\n",
        "# Add decision boundary color map\n",
        "\n",
        "# DecisionBoundaryDisplay.from_estimator(\n",
        "#     theta,\n",
        "#     x_test,\n",
        "#     cmap=plt.cm.RdYlBu,\n",
        "#     response_method=\"predict\",\n",
        "#     grid_resolution=200,\n",
        "#     ax=ax2,\n",
        "#     alpha=0.4,\n",
        "#     xlabel=features[0],\n",
        "#     ylabel=features[1],\n",
        "# )\n",
        "# # Add scatter plot and title\n",
        "# ax2.scatter(X_test_lg[:, 0], X_test_lg[:, 1], c=y_test, cmap=plt.cm.RdYlBu)\n",
        "# ax2.set_title(\"Decision boundary Logistic Regression\")\n"
      ]
    }
  ],
  "metadata": {
    "colab": {
      "provenance": []
    },
    "kernelspec": {
      "display_name": "Python 3 (ipykernel)",
      "language": "python",
      "name": "python3"
    },
    "language_info": {
      "codemirror_mode": {
        "name": "ipython",
        "version": 3
      },
      "file_extension": ".py",
      "mimetype": "text/x-python",
      "name": "python",
      "nbconvert_exporter": "python",
      "pygments_lexer": "ipython3",
      "version": "3.9.2"
    }
  },
  "nbformat": 4,
  "nbformat_minor": 0
}
