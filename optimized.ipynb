{
 "cells": [
  {
   "cell_type": "code",
   "execution_count": 4,
   "metadata": {},
   "outputs": [
    {
     "name": "stdout",
     "output_type": "stream",
     "text": [
      "No accuracy values found in file.\n"
     ]
    }
   ],
   "source": [
    "import re\n",
    "with open('neural_net_tuning.txt', 'r') as f:\n",
    "    content = f.read()\n",
    "\n",
    "accuracy_regex = r\"accuracy:\\s(\\d+\\.\\d{6})\"\n",
    "\n",
    "matches = re.findall(accuracy_regex, content)\n",
    "if matches:\n",
    "    accuracies = [float(match) for match in matches]\n",
    "    max_accuracy = max(accuracies)\n",
    "    print(f\"Highest accuracy: {max_accuracy}\")\n",
    "else:\n",
    "    print(\"No accuracy values found in file.\")\n",
    "\n",
    "\n"
   ]
  }
 ],
 "metadata": {
  "kernelspec": {
   "display_name": "Python 3",
   "language": "python",
   "name": "python3"
  },
  "language_info": {
   "codemirror_mode": {
    "name": "ipython",
    "version": 3
   },
   "file_extension": ".py",
   "mimetype": "text/x-python",
   "name": "python",
   "nbconvert_exporter": "python",
   "pygments_lexer": "ipython3",
   "version": "3.11.2"
  },
  "orig_nbformat": 4
 },
 "nbformat": 4,
 "nbformat_minor": 2
}
